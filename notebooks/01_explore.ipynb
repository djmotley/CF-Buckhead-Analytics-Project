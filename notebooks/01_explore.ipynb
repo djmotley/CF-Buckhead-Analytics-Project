{
 "cells": [
  {
   "cell_type": "markdown",
   "id": "fd427835",
   "metadata": {},
   "source": [
    "# CrossFit Retention Project — 01 Exploratory Analysis\n",
    "Initial EDA on raw PushPress exports: Members, Attendance, Store Sales, and Cancellations.\n",
    "\n",
    "**Goal**: Understand data quality, build basic retention metrics, and surface quick insights for the owner."
   ]
  },
  {
   "cell_type": "code",
   "execution_count": 11,
   "id": "f1852194",
   "metadata": {},
   "outputs": [
    {
     "data": {
      "text/plain": [
       "(   Member_ID First_Name  Join_Date Membership_Type Referral_Source\n",
       " 0          1    Member1 2024-11-23      Punch Card          Friend\n",
       " 1          2    Member2 2024-02-27     Foundations          Friend\n",
       " 2          3    Member3 2024-01-13       Unlimited          Google,\n",
       "    Member_ID       Date     Class_Type    Coach      Status\n",
       " 0          1 2025-06-06       Open Gym  Coach D  Checked In\n",
       " 1          1 2025-02-23       CrossFit  Coach C  Checked In\n",
       " 2          1 2025-08-30  Weightlifting  Coach C  Checked In,\n",
       "    Member_ID Purchase_Date                Item  Amount_USD\n",
       " 0          1    2025-09-09      Protein Powder       28.91\n",
       " 1          1    2025-08-14       Shaker Bottle       84.26\n",
       " 2          1    2025-02-01  Membership Upgrade      113.31,\n",
       "    Member_ID Cancel_Date\n",
       " 0        204  2025-05-11\n",
       " 1        267  2025-04-16\n",
       " 2        153  2024-07-23)"
      ]
     },
     "execution_count": 11,
     "metadata": {},
     "output_type": "execute_result"
    }
   ],
   "source": [
    "import os\n",
    "\n",
    "import matplotlib.pyplot as plt\n",
    "import pandas as pd\n",
    "\n",
    "CURRENT_DIR = os.path.abspath(\"..\")\n",
    "RAW_DATA_DIR = os.path.join(CURRENT_DIR, \"data\", \"raw\")\n",
    "MEMBERS_CSV = os.path.join(RAW_DATA_DIR, \"Members.csv\")\n",
    "ATTENDANCE_CSV = os.path.join(RAW_DATA_DIR, \"Attendance.csv\")\n",
    "SALES_CSV = os.path.join(RAW_DATA_DIR, \"Store_Sales.csv\")\n",
    "CANCELLATIONS_CSV = os.path.join(RAW_DATA_DIR, \"Cancellations.csv\")\n",
    "\n",
    "members = pd.read_csv(MEMBERS_CSV, parse_dates=[\"Join_Date\"])\n",
    "attendance = pd.read_csv(ATTENDANCE_CSV, parse_dates=[\"Date\"])\n",
    "sales = pd.read_csv(SALES_CSV, parse_dates=[\"Purchase_Date\"])\n",
    "cancellations = pd.read_csv(CANCELLATIONS_CSV, parse_dates=[\"Cancel_Date\"])\n",
    "\n",
    "members.head(3), attendance.head(3), sales.head(3), cancellations.head(3)"
   ]
  },
  {
   "cell_type": "markdown",
   "id": "ae4f378d",
   "metadata": {},
   "source": [
    "## Basic Shapes & Nulls"
   ]
  },
  {
   "cell_type": "code",
   "execution_count": 12,
   "id": "22271093",
   "metadata": {},
   "outputs": [
    {
     "name": "stdout",
     "output_type": "stream",
     "text": [
      "members (300, 5)\n"
     ]
    },
    {
     "data": {
      "application/vnd.microsoft.datawrangler.viewer.v0+json": {
       "columns": [
        {
         "name": "index",
         "rawType": "object",
         "type": "string"
        },
        {
         "name": "null_rate",
         "rawType": "float64",
         "type": "float"
        }
       ],
       "ref": "3b05c795-9d95-4136-9849-e95da26285b3",
       "rows": [
        [
         "Member_ID",
         "0.0"
        ],
        [
         "First_Name",
         "0.0"
        ],
        [
         "Join_Date",
         "0.0"
        ],
        [
         "Membership_Type",
         "0.0"
        ],
        [
         "Referral_Source",
         "0.0"
        ]
       ],
       "shape": {
        "columns": 1,
        "rows": 5
       }
      },
      "text/html": [
       "<div>\n",
       "<style scoped>\n",
       "    .dataframe tbody tr th:only-of-type {\n",
       "        vertical-align: middle;\n",
       "    }\n",
       "\n",
       "    .dataframe tbody tr th {\n",
       "        vertical-align: top;\n",
       "    }\n",
       "\n",
       "    .dataframe thead th {\n",
       "        text-align: right;\n",
       "    }\n",
       "</style>\n",
       "<table border=\"1\" class=\"dataframe\">\n",
       "  <thead>\n",
       "    <tr style=\"text-align: right;\">\n",
       "      <th></th>\n",
       "      <th>null_rate</th>\n",
       "    </tr>\n",
       "  </thead>\n",
       "  <tbody>\n",
       "    <tr>\n",
       "      <th>Member_ID</th>\n",
       "      <td>0.0</td>\n",
       "    </tr>\n",
       "    <tr>\n",
       "      <th>First_Name</th>\n",
       "      <td>0.0</td>\n",
       "    </tr>\n",
       "    <tr>\n",
       "      <th>Join_Date</th>\n",
       "      <td>0.0</td>\n",
       "    </tr>\n",
       "    <tr>\n",
       "      <th>Membership_Type</th>\n",
       "      <td>0.0</td>\n",
       "    </tr>\n",
       "    <tr>\n",
       "      <th>Referral_Source</th>\n",
       "      <td>0.0</td>\n",
       "    </tr>\n",
       "  </tbody>\n",
       "</table>\n",
       "</div>"
      ],
      "text/plain": [
       "                 null_rate\n",
       "Member_ID              0.0\n",
       "First_Name             0.0\n",
       "Join_Date              0.0\n",
       "Membership_Type        0.0\n",
       "Referral_Source        0.0"
      ]
     },
     "metadata": {},
     "output_type": "display_data"
    },
    {
     "name": "stdout",
     "output_type": "stream",
     "text": [
      "attendance (24166, 5)\n"
     ]
    },
    {
     "data": {
      "application/vnd.microsoft.datawrangler.viewer.v0+json": {
       "columns": [
        {
         "name": "index",
         "rawType": "object",
         "type": "string"
        },
        {
         "name": "null_rate",
         "rawType": "float64",
         "type": "float"
        }
       ],
       "ref": "9e132b50-7959-4a98-8e14-ebc17bb9936e",
       "rows": [
        [
         "Member_ID",
         "0.0"
        ],
        [
         "Date",
         "0.0"
        ],
        [
         "Class_Type",
         "0.0"
        ],
        [
         "Coach",
         "0.0"
        ],
        [
         "Status",
         "0.0"
        ]
       ],
       "shape": {
        "columns": 1,
        "rows": 5
       }
      },
      "text/html": [
       "<div>\n",
       "<style scoped>\n",
       "    .dataframe tbody tr th:only-of-type {\n",
       "        vertical-align: middle;\n",
       "    }\n",
       "\n",
       "    .dataframe tbody tr th {\n",
       "        vertical-align: top;\n",
       "    }\n",
       "\n",
       "    .dataframe thead th {\n",
       "        text-align: right;\n",
       "    }\n",
       "</style>\n",
       "<table border=\"1\" class=\"dataframe\">\n",
       "  <thead>\n",
       "    <tr style=\"text-align: right;\">\n",
       "      <th></th>\n",
       "      <th>null_rate</th>\n",
       "    </tr>\n",
       "  </thead>\n",
       "  <tbody>\n",
       "    <tr>\n",
       "      <th>Member_ID</th>\n",
       "      <td>0.0</td>\n",
       "    </tr>\n",
       "    <tr>\n",
       "      <th>Date</th>\n",
       "      <td>0.0</td>\n",
       "    </tr>\n",
       "    <tr>\n",
       "      <th>Class_Type</th>\n",
       "      <td>0.0</td>\n",
       "    </tr>\n",
       "    <tr>\n",
       "      <th>Coach</th>\n",
       "      <td>0.0</td>\n",
       "    </tr>\n",
       "    <tr>\n",
       "      <th>Status</th>\n",
       "      <td>0.0</td>\n",
       "    </tr>\n",
       "  </tbody>\n",
       "</table>\n",
       "</div>"
      ],
      "text/plain": [
       "            null_rate\n",
       "Member_ID         0.0\n",
       "Date              0.0\n",
       "Class_Type        0.0\n",
       "Coach             0.0\n",
       "Status            0.0"
      ]
     },
     "metadata": {},
     "output_type": "display_data"
    },
    {
     "name": "stdout",
     "output_type": "stream",
     "text": [
      "sales (1477, 4)\n"
     ]
    },
    {
     "data": {
      "application/vnd.microsoft.datawrangler.viewer.v0+json": {
       "columns": [
        {
         "name": "index",
         "rawType": "object",
         "type": "string"
        },
        {
         "name": "null_rate",
         "rawType": "float64",
         "type": "float"
        }
       ],
       "ref": "173c76ae-5be8-4da4-9bc2-989cdfab3791",
       "rows": [
        [
         "Member_ID",
         "0.0"
        ],
        [
         "Purchase_Date",
         "0.0"
        ],
        [
         "Item",
         "0.0"
        ],
        [
         "Amount_USD",
         "0.0"
        ]
       ],
       "shape": {
        "columns": 1,
        "rows": 4
       }
      },
      "text/html": [
       "<div>\n",
       "<style scoped>\n",
       "    .dataframe tbody tr th:only-of-type {\n",
       "        vertical-align: middle;\n",
       "    }\n",
       "\n",
       "    .dataframe tbody tr th {\n",
       "        vertical-align: top;\n",
       "    }\n",
       "\n",
       "    .dataframe thead th {\n",
       "        text-align: right;\n",
       "    }\n",
       "</style>\n",
       "<table border=\"1\" class=\"dataframe\">\n",
       "  <thead>\n",
       "    <tr style=\"text-align: right;\">\n",
       "      <th></th>\n",
       "      <th>null_rate</th>\n",
       "    </tr>\n",
       "  </thead>\n",
       "  <tbody>\n",
       "    <tr>\n",
       "      <th>Member_ID</th>\n",
       "      <td>0.0</td>\n",
       "    </tr>\n",
       "    <tr>\n",
       "      <th>Purchase_Date</th>\n",
       "      <td>0.0</td>\n",
       "    </tr>\n",
       "    <tr>\n",
       "      <th>Item</th>\n",
       "      <td>0.0</td>\n",
       "    </tr>\n",
       "    <tr>\n",
       "      <th>Amount_USD</th>\n",
       "      <td>0.0</td>\n",
       "    </tr>\n",
       "  </tbody>\n",
       "</table>\n",
       "</div>"
      ],
      "text/plain": [
       "               null_rate\n",
       "Member_ID            0.0\n",
       "Purchase_Date        0.0\n",
       "Item                 0.0\n",
       "Amount_USD           0.0"
      ]
     },
     "metadata": {},
     "output_type": "display_data"
    },
    {
     "name": "stdout",
     "output_type": "stream",
     "text": [
      "cancellations (44, 2)\n"
     ]
    },
    {
     "data": {
      "application/vnd.microsoft.datawrangler.viewer.v0+json": {
       "columns": [
        {
         "name": "index",
         "rawType": "object",
         "type": "string"
        },
        {
         "name": "null_rate",
         "rawType": "float64",
         "type": "float"
        }
       ],
       "ref": "26a0a1ea-4fc3-49bd-a8bd-d1bd21bb8e5f",
       "rows": [
        [
         "Member_ID",
         "0.0"
        ],
        [
         "Cancel_Date",
         "0.0"
        ]
       ],
       "shape": {
        "columns": 1,
        "rows": 2
       }
      },
      "text/html": [
       "<div>\n",
       "<style scoped>\n",
       "    .dataframe tbody tr th:only-of-type {\n",
       "        vertical-align: middle;\n",
       "    }\n",
       "\n",
       "    .dataframe tbody tr th {\n",
       "        vertical-align: top;\n",
       "    }\n",
       "\n",
       "    .dataframe thead th {\n",
       "        text-align: right;\n",
       "    }\n",
       "</style>\n",
       "<table border=\"1\" class=\"dataframe\">\n",
       "  <thead>\n",
       "    <tr style=\"text-align: right;\">\n",
       "      <th></th>\n",
       "      <th>null_rate</th>\n",
       "    </tr>\n",
       "  </thead>\n",
       "  <tbody>\n",
       "    <tr>\n",
       "      <th>Member_ID</th>\n",
       "      <td>0.0</td>\n",
       "    </tr>\n",
       "    <tr>\n",
       "      <th>Cancel_Date</th>\n",
       "      <td>0.0</td>\n",
       "    </tr>\n",
       "  </tbody>\n",
       "</table>\n",
       "</div>"
      ],
      "text/plain": [
       "             null_rate\n",
       "Member_ID          0.0\n",
       "Cancel_Date        0.0"
      ]
     },
     "metadata": {},
     "output_type": "display_data"
    }
   ],
   "source": [
    "for name, df in {\n",
    "    \"members\": members,\n",
    "    \"attendance\": attendance,\n",
    "    \"sales\": sales,\n",
    "    \"cancellations\": cancellations,\n",
    "}.items():\n",
    "    print(name, df.shape)\n",
    "    display(df.isna().mean().sort_values(ascending=False).to_frame(\"null_rate\"))"
   ]
  },
  {
   "cell_type": "markdown",
   "id": "ff263621",
   "metadata": {},
   "source": [
    "## Member Growth Over Time"
   ]
  },
  {
   "cell_type": "code",
   "execution_count": 13,
   "id": "27ce549e",
   "metadata": {},
   "outputs": [
    {
     "data": {
      "image/png": "[encoded data removed]",
      "text/plain": [
       "<Figure size 640x480 with 1 Axes>"
      ]
     },
     "metadata": {},
     "output_type": "display_data"
    }
   ],
   "source": [
    "members_by_month = (\n",
    "    members.assign(month=members[\"Join_Date\"].dt.to_period(\"M\").dt.to_timestamp())\n",
    "    .groupby(\"month\")\n",
    "    .size()\n",
    ")\n",
    "plt.figure()\n",
    "members_by_month.plot(kind=\"bar\")\n",
    "plt.title(\"New Members per Month\")\n",
    "plt.xlabel(\"Month\")\n",
    "plt.ylabel(\"Count\")\n",
    "plt.tight_layout()\n",
    "plt.show()"
   ]
  },
  {
   "cell_type": "markdown",
   "id": "8147d32b",
   "metadata": {},
   "source": [
    "## Cancellations Over Time"
   ]
  },
  {
   "cell_type": "code",
   "execution_count": 14,
   "id": "19a16702",
   "metadata": {},
   "outputs": [
    {
     "data": {
      "image/png": "[encoded data removed]",
      "text/plain": [
       "<Figure size 640x480 with 1 Axes>"
      ]
     },
     "metadata": {},
     "output_type": "display_data"
    }
   ],
   "source": [
    "cancels_by_month = (\n",
    "    cancellations.assign(month=cancellations[\"Cancel_Date\"].dt.to_period(\"M\").dt.to_timestamp())\n",
    "    .groupby(\"month\")\n",
    "    .size()\n",
    ")\n",
    "plt.figure()\n",
    "cancels_by_month.plot(kind=\"bar\")\n",
    "plt.title(\"Cancellations per Month\")\n",
    "plt.xlabel(\"Month\")\n",
    "plt.ylabel(\"Count\")\n",
    "plt.tight_layout()\n",
    "plt.show()"
   ]
  },
  {
   "cell_type": "markdown",
   "id": "831b62ac",
   "metadata": {},
   "source": [
    "## Current Churn Snapshot"
   ]
  },
  {
   "cell_type": "code",
   "execution_count": 15,
   "id": "2e0f17ba",
   "metadata": {},
   "outputs": [
    {
     "name": "stdout",
     "output_type": "stream",
     "text": [
      "Members: 300 | Cancelled: 44 | Churn Rate: 14.67%\n",
      "Active Members (approx): 256\n"
     ]
    }
   ],
   "source": [
    "active_ids = set(members[\"Member_ID\"]) - set(cancellations[\"Member_ID\"])\n",
    "churn_rate = len(set(cancellations[\"Member_ID\"])) / len(set(members[\"Member_ID\"]))\n",
    "print(\n",
    "    f\"Members: {members['Member_ID'].nunique()} | Cancelled: {cancellations['Member_ID'].nunique()} | Churn Rate: {churn_rate:.2%}\"\n",
    ")\n",
    "print(f\"Active Members (approx): {len(active_ids)}\")"
   ]
  },
  {
   "cell_type": "markdown",
   "id": "0a400906",
   "metadata": {},
   "source": [
    "## Attendance Patterns"
   ]
  },
  {
   "cell_type": "code",
   "execution_count": 16,
   "id": "48180a81",
   "metadata": {},
   "outputs": [
    {
     "data": {
      "image/png": "[encoded data removed]",
      "text/plain": [
       "<Figure size 640x480 with 1 Axes>"
      ]
     },
     "metadata": {},
     "output_type": "display_data"
    },
    {
     "data": {
      "image/png": "[encoded data removed]",
      "text/plain": [
       "<Figure size 640x480 with 1 Axes>"
      ]
     },
     "metadata": {},
     "output_type": "display_data"
    }
   ],
   "source": [
    "# Visits per member\n",
    "visits_per_member = attendance[attendance[\"Status\"].eq(\"Checked In\")].groupby(\"Member_ID\").size()\n",
    "plt.figure()\n",
    "visits_per_member.hist(bins=30)\n",
    "plt.title(\"Distribution of Visits per Member\")\n",
    "plt.xlabel(\"Visits\")\n",
    "plt.ylabel(\"Members\")\n",
    "plt.tight_layout()\n",
    "plt.show()\n",
    "\n",
    "# Peak days/times\n",
    "att = attendance.copy()\n",
    "att[\"weekday\"] = att[\"Date\"].dt.day_name()\n",
    "by_weekday = (\n",
    "    att[att[\"Status\"].eq(\"Checked In\")]\n",
    "    .groupby(\"weekday\")\n",
    "    .size()\n",
    "    .reindex([\"Monday\", \"Tuesday\", \"Wednesday\", \"Thursday\", \"Friday\", \"Saturday\", \"Sunday\"])\n",
    ")\n",
    "plt.figure()\n",
    "by_weekday.plot(kind=\"bar\")\n",
    "plt.title(\"Check-ins by Weekday\")\n",
    "plt.xlabel(\"Weekday\")\n",
    "plt.ylabel(\"Check-ins\")\n",
    "plt.tight_layout()\n",
    "plt.show()"
   ]
  },
  {
   "cell_type": "markdown",
   "id": "8662bff8",
   "metadata": {},
   "source": [
    "## Membership Type Mix & Referral Sources"
   ]
  },
  {
   "cell_type": "code",
   "execution_count": 17,
   "id": "a915394a",
   "metadata": {},
   "outputs": [
    {
     "data": {
      "image/png": "[encoded data removed]",
      "text/plain": [
       "<Figure size 640x480 with 1 Axes>"
      ]
     },
     "metadata": {},
     "output_type": "display_data"
    },
    {
     "data": {
      "image/png": "[encoded data removed]",
      "text/plain": [
       "<Figure size 640x480 with 1 Axes>"
      ]
     },
     "metadata": {},
     "output_type": "display_data"
    }
   ],
   "source": [
    "plt.figure()\n",
    "members[\"Membership_Type\"].value_counts().plot(kind=\"bar\")\n",
    "plt.title(\"Membership Type Distribution\")\n",
    "plt.xlabel(\"Type\")\n",
    "plt.ylabel(\"Members\")\n",
    "plt.tight_layout()\n",
    "plt.show()\n",
    "\n",
    "plt.figure()\n",
    "members[\"Referral_Source\"].value_counts().plot(kind=\"bar\")\n",
    "plt.title(\"Referral Source Distribution\")\n",
    "plt.xlabel(\"Source\")\n",
    "plt.ylabel(\"Members\")\n",
    "plt.tight_layout()\n",
    "plt.show()"
   ]
  },
  {
   "cell_type": "markdown",
   "id": "ad7fc65f",
   "metadata": {},
   "source": [
    "## Retail Sales Overview"
   ]
  },
  {
   "cell_type": "code",
   "execution_count": 18,
   "id": "aea715fe",
   "metadata": {},
   "outputs": [
    {
     "data": {
      "image/png": "[encoded data removed]",
      "text/plain": [
       "<Figure size 640x480 with 1 Axes>"
      ]
     },
     "metadata": {},
     "output_type": "display_data"
    },
    {
     "data": {
      "application/vnd.microsoft.datawrangler.viewer.v0+json": {
       "columns": [
        {
         "name": "Item",
         "rawType": "object",
         "type": "string"
        },
        {
         "name": "Revenue_USD",
         "rawType": "float64",
         "type": "float"
        }
       ],
       "ref": "318989cb-e437-4979-94da-fa201784e8f5",
       "rows": [
        [
         "T-Shirt",
         "22661.41"
        ],
        [
         "Pre-Workout",
         "21057.17"
        ],
        [
         "Protein Powder",
         "20335.34"
        ],
        [
         "Membership Upgrade",
         "19851.72"
        ],
        [
         "Shaker Bottle",
         "19544.42"
        ]
       ],
       "shape": {
        "columns": 1,
        "rows": 5
       }
      },
      "text/html": [
       "<div>\n",
       "<style scoped>\n",
       "    .dataframe tbody tr th:only-of-type {\n",
       "        vertical-align: middle;\n",
       "    }\n",
       "\n",
       "    .dataframe tbody tr th {\n",
       "        vertical-align: top;\n",
       "    }\n",
       "\n",
       "    .dataframe thead th {\n",
       "        text-align: right;\n",
       "    }\n",
       "</style>\n",
       "<table border=\"1\" class=\"dataframe\">\n",
       "  <thead>\n",
       "    <tr style=\"text-align: right;\">\n",
       "      <th></th>\n",
       "      <th>Revenue_USD</th>\n",
       "    </tr>\n",
       "    <tr>\n",
       "      <th>Item</th>\n",
       "      <th></th>\n",
       "    </tr>\n",
       "  </thead>\n",
       "  <tbody>\n",
       "    <tr>\n",
       "      <th>T-Shirt</th>\n",
       "      <td>22661.41</td>\n",
       "    </tr>\n",
       "    <tr>\n",
       "      <th>Pre-Workout</th>\n",
       "      <td>21057.17</td>\n",
       "    </tr>\n",
       "    <tr>\n",
       "      <th>Protein Powder</th>\n",
       "      <td>20335.34</td>\n",
       "    </tr>\n",
       "    <tr>\n",
       "      <th>Membership Upgrade</th>\n",
       "      <td>19851.72</td>\n",
       "    </tr>\n",
       "    <tr>\n",
       "      <th>Shaker Bottle</th>\n",
       "      <td>19544.42</td>\n",
       "    </tr>\n",
       "  </tbody>\n",
       "</table>\n",
       "</div>"
      ],
      "text/plain": [
       "                    Revenue_USD\n",
       "Item                           \n",
       "T-Shirt                22661.41\n",
       "Pre-Workout            21057.17\n",
       "Protein Powder         20335.34\n",
       "Membership Upgrade     19851.72\n",
       "Shaker Bottle          19544.42"
      ]
     },
     "metadata": {},
     "output_type": "display_data"
    }
   ],
   "source": [
    "sales[\"month\"] = sales[\"Purchase_Date\"].dt.to_period(\"M\").dt.to_timestamp()\n",
    "sales_monthly = sales.groupby(\"month\")[\"Amount_USD\"].sum()\n",
    "plt.figure()\n",
    "sales_monthly.plot(kind=\"bar\")\n",
    "plt.title(\"Retail Revenue by Month\")\n",
    "plt.xlabel(\"Month\")\n",
    "plt.ylabel(\"USD\")\n",
    "plt.tight_layout()\n",
    "plt.show()\n",
    "\n",
    "top_items = sales.groupby(\"Item\")[\"Amount_USD\"].sum().sort_values(ascending=False)\n",
    "display(top_items.to_frame(\"Revenue_USD\"))"
   ]
  },
  {
   "cell_type": "markdown",
   "id": "35e6462a",
   "metadata": {},
   "source": [
    "## Quick Retention Signals (Heuristics)"
   ]
  },
  {
   "cell_type": "code",
   "execution_count": 19,
   "id": "7f939777",
   "metadata": {},
   "outputs": [
    {
     "data": {
      "application/vnd.microsoft.datawrangler.viewer.v0+json": {
       "columns": [
        {
         "name": "index",
         "rawType": "int64",
         "type": "integer"
        },
        {
         "name": "Member_ID",
         "rawType": "int64",
         "type": "integer"
        },
        {
         "name": "First_Name",
         "rawType": "object",
         "type": "string"
        },
        {
         "name": "Join_Date",
         "rawType": "datetime64[ns]",
         "type": "datetime"
        },
        {
         "name": "Membership_Type",
         "rawType": "object",
         "type": "string"
        },
        {
         "name": "Referral_Source",
         "rawType": "object",
         "type": "string"
        },
        {
         "name": "Last_Checkin",
         "rawType": "datetime64[ns]",
         "type": "datetime"
        },
        {
         "name": "Days_Since_Last",
         "rawType": "int64",
         "type": "integer"
        },
        {
         "name": "First_Checkin",
         "rawType": "datetime64[ns]",
         "type": "datetime"
        },
        {
         "name": "Total_Checkins",
         "rawType": "int64",
         "type": "integer"
        },
        {
         "name": "Months_Active",
         "rawType": "int64",
         "type": "integer"
        },
        {
         "name": "Visits_per_Month",
         "rawType": "float64",
         "type": "float"
        },
        {
         "name": "Retail_Spend_USD",
         "rawType": "float64",
         "type": "float"
        },
        {
         "name": "Churned",
         "rawType": "int64",
         "type": "integer"
        }
       ],
       "ref": "9b0f17f1-b2aa-4283-a475-5eb467a54a3b",
       "rows": [
        [
         "0",
         "1",
         "Member1",
         "2024-11-23 00:00:00",
         "Punch Card",
         "Friend",
         "2025-10-01 00:00:00",
         "0",
         "2024-11-24 00:00:00",
         "85",
         "12",
         "7.083333333333333",
         "311.75",
         "0"
        ],
        [
         "1",
         "2",
         "Member2",
         "2024-02-27 00:00:00",
         "Foundations",
         "Friend",
         "2025-09-29 00:00:00",
         "2",
         "2024-03-18 00:00:00",
         "94",
         "19",
         "4.947368421052632",
         "343.9",
         "0"
        ],
        [
         "2",
         "3",
         "Member3",
         "2024-01-13 00:00:00",
         "Unlimited",
         "Google",
         "2025-09-29 00:00:00",
         "2",
         "2024-01-18 00:00:00",
         "80",
         "21",
         "3.8095238095238093",
         "625.86",
         "0"
        ],
        [
         "3",
         "4",
         "Member4",
         "2025-01-14 00:00:00",
         "Punch Card",
         "Instagram",
         "2025-10-01 00:00:00",
         "0",
         "2025-01-14 00:00:00",
         "68",
         "10",
         "6.8",
         "539.33",
         "0"
        ],
        [
         "4",
         "5",
         "Member5",
         "2024-05-20 00:00:00",
         "Punch Card",
         "Walk-in",
         "2025-10-01 00:00:00",
         "0",
         "2024-05-25 00:00:00",
         "77",
         "18",
         "4.277777777777778",
         "569.1",
         "0"
        ],
        [
         "5",
         "6",
         "Member6",
         "2024-05-05 00:00:00",
         "Foundations",
         "Event",
         "2025-09-19 00:00:00",
         "12",
         "2024-05-25 00:00:00",
         "86",
         "17",
         "5.0588235294117645",
         "163.91",
         "1"
        ],
        [
         "6",
         "7",
         "Member7",
         "2024-04-24 00:00:00",
         "Unlimited",
         "Instagram",
         "2025-09-28 00:00:00",
         "3",
         "2024-05-03 00:00:00",
         "78",
         "17",
         "4.588235294117647",
         "635.6600000000001",
         "0"
        ],
        [
         "7",
         "8",
         "Member8",
         "2024-03-12 00:00:00",
         "Unlimited",
         "Event",
         "2025-09-24 00:00:00",
         "7",
         "2024-03-13 00:00:00",
         "79",
         "19",
         "4.157894736842105",
         "393.72",
         "1"
        ],
        [
         "8",
         "9",
         "Member9",
         "2025-01-12 00:00:00",
         "Punch Card",
         "Google",
         "2025-09-29 00:00:00",
         "2",
         "2025-01-14 00:00:00",
         "92",
         "9",
         "10.222222222222221",
         "171.29",
         "0"
        ],
        [
         "9",
         "10",
         "Member10",
         "2024-02-22 00:00:00",
         "3x/Week",
         "Google",
         "2025-09-29 00:00:00",
         "2",
         "2024-02-27 00:00:00",
         "72",
         "20",
         "3.6",
         "469.03999999999996",
         "1"
        ]
       ],
       "shape": {
        "columns": 13,
        "rows": 10
       }
      },
      "text/html": [
       "<div>\n",
       "<style scoped>\n",
       "    .dataframe tbody tr th:only-of-type {\n",
       "        vertical-align: middle;\n",
       "    }\n",
       "\n",
       "    .dataframe tbody tr th {\n",
       "        vertical-align: top;\n",
       "    }\n",
       "\n",
       "    .dataframe thead th {\n",
       "        text-align: right;\n",
       "    }\n",
       "</style>\n",
       "<table border=\"1\" class=\"dataframe\">\n",
       "  <thead>\n",
       "    <tr style=\"text-align: right;\">\n",
       "      <th></th>\n",
       "      <th>Member_ID</th>\n",
       "      <th>First_Name</th>\n",
       "      <th>Join_Date</th>\n",
       "      <th>Membership_Type</th>\n",
       "      <th>Referral_Source</th>\n",
       "      <th>Last_Checkin</th>\n",
       "      <th>Days_Since_Last</th>\n",
       "      <th>First_Checkin</th>\n",
       "      <th>Total_Checkins</th>\n",
       "      <th>Months_Active</th>\n",
       "      <th>Visits_per_Month</th>\n",
       "      <th>Retail_Spend_USD</th>\n",
       "      <th>Churned</th>\n",
       "    </tr>\n",
       "  </thead>\n",
       "  <tbody>\n",
       "    <tr>\n",
       "      <th>0</th>\n",
       "      <td>1</td>\n",
       "      <td>Member1</td>\n",
       "      <td>2024-11-23</td>\n",
       "      <td>Punch Card</td>\n",
       "      <td>Friend</td>\n",
       "      <td>2025-10-01</td>\n",
       "      <td>0</td>\n",
       "      <td>2024-11-24</td>\n",
       "      <td>85</td>\n",
       "      <td>12</td>\n",
       "      <td>7.083333</td>\n",
       "      <td>311.75</td>\n",
       "      <td>0</td>\n",
       "    </tr>\n",
       "    <tr>\n",
       "      <th>1</th>\n",
       "      <td>2</td>\n",
       "      <td>Member2</td>\n",
       "      <td>2024-02-27</td>\n",
       "      <td>Foundations</td>\n",
       "      <td>Friend</td>\n",
       "      <td>2025-09-29</td>\n",
       "      <td>2</td>\n",
       "      <td>2024-03-18</td>\n",
       "      <td>94</td>\n",
       "      <td>19</td>\n",
       "      <td>4.947368</td>\n",
       "      <td>343.90</td>\n",
       "      <td>0</td>\n",
       "    </tr>\n",
       "    <tr>\n",
       "      <th>2</th>\n",
       "      <td>3</td>\n",
       "      <td>Member3</td>\n",
       "      <td>2024-01-13</td>\n",
       "      <td>Unlimited</td>\n",
       "      <td>Google</td>\n",
       "      <td>2025-09-29</td>\n",
       "      <td>2</td>\n",
       "      <td>2024-01-18</td>\n",
       "      <td>80</td>\n",
       "      <td>21</td>\n",
       "      <td>3.809524</td>\n",
       "      <td>625.86</td>\n",
       "      <td>0</td>\n",
       "    </tr>\n",
       "    <tr>\n",
       "      <th>3</th>\n",
       "      <td>4</td>\n",
       "      <td>Member4</td>\n",
       "      <td>2025-01-14</td>\n",
       "      <td>Punch Card</td>\n",
       "      <td>Instagram</td>\n",
       "      <td>2025-10-01</td>\n",
       "      <td>0</td>\n",
       "      <td>2025-01-14</td>\n",
       "      <td>68</td>\n",
       "      <td>10</td>\n",
       "      <td>6.800000</td>\n",
       "      <td>539.33</td>\n",
       "      <td>0</td>\n",
       "    </tr>\n",
       "    <tr>\n",
       "      <th>4</th>\n",
       "      <td>5</td>\n",
       "      <td>Member5</td>\n",
       "      <td>2024-05-20</td>\n",
       "      <td>Punch Card</td>\n",
       "      <td>Walk-in</td>\n",
       "      <td>2025-10-01</td>\n",
       "      <td>0</td>\n",
       "      <td>2024-05-25</td>\n",
       "      <td>77</td>\n",
       "      <td>18</td>\n",
       "      <td>4.277778</td>\n",
       "      <td>569.10</td>\n",
       "      <td>0</td>\n",
       "    </tr>\n",
       "    <tr>\n",
       "      <th>5</th>\n",
       "      <td>6</td>\n",
       "      <td>Member6</td>\n",
       "      <td>2024-05-05</td>\n",
       "      <td>Foundations</td>\n",
       "      <td>Event</td>\n",
       "      <td>2025-09-19</td>\n",
       "      <td>12</td>\n",
       "      <td>2024-05-25</td>\n",
       "      <td>86</td>\n",
       "      <td>17</td>\n",
       "      <td>5.058824</td>\n",
       "      <td>163.91</td>\n",
       "      <td>1</td>\n",
       "    </tr>\n",
       "    <tr>\n",
       "      <th>6</th>\n",
       "      <td>7</td>\n",
       "      <td>Member7</td>\n",
       "      <td>2024-04-24</td>\n",
       "      <td>Unlimited</td>\n",
       "      <td>Instagram</td>\n",
       "      <td>2025-09-28</td>\n",
       "      <td>3</td>\n",
       "      <td>2024-05-03</td>\n",
       "      <td>78</td>\n",
       "      <td>17</td>\n",
       "      <td>4.588235</td>\n",
       "      <td>635.66</td>\n",
       "      <td>0</td>\n",
       "    </tr>\n",
       "    <tr>\n",
       "      <th>7</th>\n",
       "      <td>8</td>\n",
       "      <td>Member8</td>\n",
       "      <td>2024-03-12</td>\n",
       "      <td>Unlimited</td>\n",
       "      <td>Event</td>\n",
       "      <td>2025-09-24</td>\n",
       "      <td>7</td>\n",
       "      <td>2024-03-13</td>\n",
       "      <td>79</td>\n",
       "      <td>19</td>\n",
       "      <td>4.157895</td>\n",
       "      <td>393.72</td>\n",
       "      <td>1</td>\n",
       "    </tr>\n",
       "    <tr>\n",
       "      <th>8</th>\n",
       "      <td>9</td>\n",
       "      <td>Member9</td>\n",
       "      <td>2025-01-12</td>\n",
       "      <td>Punch Card</td>\n",
       "      <td>Google</td>\n",
       "      <td>2025-09-29</td>\n",
       "      <td>2</td>\n",
       "      <td>2025-01-14</td>\n",
       "      <td>92</td>\n",
       "      <td>9</td>\n",
       "      <td>10.222222</td>\n",
       "      <td>171.29</td>\n",
       "      <td>0</td>\n",
       "    </tr>\n",
       "    <tr>\n",
       "      <th>9</th>\n",
       "      <td>10</td>\n",
       "      <td>Member10</td>\n",
       "      <td>2024-02-22</td>\n",
       "      <td>3x/Week</td>\n",
       "      <td>Google</td>\n",
       "      <td>2025-09-29</td>\n",
       "      <td>2</td>\n",
       "      <td>2024-02-27</td>\n",
       "      <td>72</td>\n",
       "      <td>20</td>\n",
       "      <td>3.600000</td>\n",
       "      <td>469.04</td>\n",
       "      <td>1</td>\n",
       "    </tr>\n",
       "  </tbody>\n",
       "</table>\n",
       "</div>"
      ],
      "text/plain": [
       "   Member_ID First_Name  Join_Date Membership_Type Referral_Source  \\\n",
       "0          1    Member1 2024-11-23      Punch Card          Friend   \n",
       "1          2    Member2 2024-02-27     Foundations          Friend   \n",
       "2          3    Member3 2024-01-13       Unlimited          Google   \n",
       "3          4    Member4 2025-01-14      Punch Card       Instagram   \n",
       "4          5    Member5 2024-05-20      Punch Card         Walk-in   \n",
       "5          6    Member6 2024-05-05     Foundations           Event   \n",
       "6          7    Member7 2024-04-24       Unlimited       Instagram   \n",
       "7          8    Member8 2024-03-12       Unlimited           Event   \n",
       "8          9    Member9 2025-01-12      Punch Card          Google   \n",
       "9         10   Member10 2024-02-22         3x/Week          Google   \n",
       "\n",
       "  Last_Checkin  Days_Since_Last First_Checkin  Total_Checkins  Months_Active  \\\n",
       "0   2025-10-01                0    2024-11-24              85             12   \n",
       "1   2025-09-29                2    2024-03-18              94             19   \n",
       "2   2025-09-29                2    2024-01-18              80             21   \n",
       "3   2025-10-01                0    2025-01-14              68             10   \n",
       "4   2025-10-01                0    2024-05-25              77             18   \n",
       "5   2025-09-19               12    2024-05-25              86             17   \n",
       "6   2025-09-28                3    2024-05-03              78             17   \n",
       "7   2025-09-24                7    2024-03-13              79             19   \n",
       "8   2025-09-29                2    2025-01-14              92              9   \n",
       "9   2025-09-29                2    2024-02-27              72             20   \n",
       "\n",
       "   Visits_per_Month  Retail_Spend_USD  Churned  \n",
       "0          7.083333            311.75        0  \n",
       "1          4.947368            343.90        0  \n",
       "2          3.809524            625.86        0  \n",
       "3          6.800000            539.33        0  \n",
       "4          4.277778            569.10        0  \n",
       "5          5.058824            163.91        1  \n",
       "6          4.588235            635.66        0  \n",
       "7          4.157895            393.72        1  \n",
       "8         10.222222            171.29        0  \n",
       "9          3.600000            469.04        1  "
      ]
     },
     "metadata": {},
     "output_type": "display_data"
    },
    {
     "name": "stdout",
     "output_type": "stream",
     "text": [
      "Heuristic: Members with high 'Days_Since_Last' and low 'Visits_per_Month' are at higher risk.\n"
     ]
    }
   ],
   "source": [
    "# Days since last check-in\n",
    "last_seen = (\n",
    "    attendance[attendance[\"Status\"].eq(\"Checked In\")]\n",
    "    .groupby(\"Member_ID\")[\"Date\"]\n",
    "    .max()\n",
    "    .rename(\"Last_Checkin\")\n",
    ")\n",
    "features = members.set_index(\"Member_ID\").join(last_seen).reset_index()\n",
    "snapshot_date = max(attendance[\"Date\"])\n",
    "features[\"Days_Since_Last\"] = (snapshot_date - features[\"Last_Checkin\"]).dt.days\n",
    "\n",
    "# Visit frequency (visits per active month)\n",
    "first_seen = (\n",
    "    attendance[attendance[\"Status\"].eq(\"Checked In\")]\n",
    "    .groupby(\"Member_ID\")[\"Date\"]\n",
    "    .min()\n",
    "    .rename(\"First_Checkin\")\n",
    ")\n",
    "totals = (\n",
    "    attendance[attendance[\"Status\"].eq(\"Checked In\")]\n",
    "    .groupby(\"Member_ID\")\n",
    "    .size()\n",
    "    .rename(\"Total_Checkins\")\n",
    ")\n",
    "features = features.set_index(\"Member_ID\").join(first_seen).join(totals).reset_index()\n",
    "features[\"Months_Active\"] = (\n",
    "    (\n",
    "        features[\"Last_Checkin\"].dt.to_period(\"M\") - features[\"First_Checkin\"].dt.to_period(\"M\")\n",
    "    ).apply(lambda p: p.n)\n",
    "    + 1\n",
    ").clip(lower=1)\n",
    "features[\"Visits_per_Month\"] = (features[\"Total_Checkins\"] / features[\"Months_Active\"]).fillna(0)\n",
    "\n",
    "# Retail spend\n",
    "spend = sales.groupby(\"Member_ID\")[\"Amount_USD\"].sum().rename(\"Retail_Spend_USD\")\n",
    "features = features.set_index(\"Member_ID\").join(spend).reset_index().fillna({\"Retail_Spend_USD\": 0})\n",
    "\n",
    "# Label churned\n",
    "features[\"Churned\"] = features[\"Member_ID\"].isin(set(cancellations[\"Member_ID\"])).astype(int)\n",
    "\n",
    "display(features.head(10))\n",
    "print(\n",
    "    \"Heuristic: Members with high 'Days_Since_Last' and low 'Visits_per_Month' are at higher risk.\"\n",
    ")"
   ]
  }
 ],
 "metadata": {
  "kernelspec": {
   "display_name": ".venv",
   "language": "python",
   "name": "python3"
  },
  "language_info": {
   "codemirror_mode": {
    "name": "ipython",
    "version": 3
   },
   "file_extension": ".py",
   "mimetype": "text/x-python",
   "name": "python",
   "nbconvert_exporter": "python",
   "pygments_lexer": "ipython3",
   "version": "3.13.9"
  }
 },
 "nbformat": 4,
 "nbformat_minor": 5
}
