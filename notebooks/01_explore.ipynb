{
 "cells": [
  {
   "cell_type": "markdown",
   "id": "fd427835",
   "metadata": {},
   "source": [
    "# CrossFit Retention Project — 01 Exploratory Analysis\n",
    "Initial EDA on raw PushPress exports: Members, Attendance, Store Sales, and Cancellations.\n",
    "\n",
    "**Goal**: Understand data quality, build basic retention metrics, and surface quick insights for the owner."
   ]
  },
  {
   "cell_type": "code",
   "execution_count": null,
   "id": "f1852194",
   "metadata": {},
   "outputs": [],
   "source": [
    "import matplotlib.pyplot as plt\n",
    "import pandas as pd\n",
    "\n",
    "members = pd.read_csv(r\"/mnt/data/Members.csv\", parse_dates=[\"Join_Date\"])\n",
    "attendance = pd.read_csv(r\"/mnt/data/Attendance.csv\", parse_dates=[\"Date\"])\n",
    "sales = pd.read_csv(r\"/mnt/data/Store_Sales.csv\", parse_dates=[\"Purchase_Date\"])\n",
    "cancellations = pd.read_csv(r\"/mnt/data/Cancellations.csv\", parse_dates=[\"Cancel_Date\"])\n",
    "\n",
    "members.head(3), attendance.head(3), sales.head(3), cancellations.head(3)"
   ]
  },
  {
   "cell_type": "markdown",
   "id": "ae4f378d",
   "metadata": {},
   "source": [
    "## Basic Shapes & Nulls"
   ]
  },
  {
   "cell_type": "code",
   "execution_count": null,
   "id": "22271093",
   "metadata": {},
   "outputs": [],
   "source": [
    "for name, df in {\n",
    "    \"members\": members,\n",
    "    \"attendance\": attendance,\n",
    "    \"sales\": sales,\n",
    "    \"cancellations\": cancellations,\n",
    "}.items():\n",
    "    print(name, df.shape)\n",
    "    display(df.isna().mean().sort_values(ascending=False).to_frame(\"null_rate\"))"
   ]
  },
  {
   "cell_type": "markdown",
   "id": "ff263621",
   "metadata": {},
   "source": [
    "## Member Growth Over Time"
   ]
  },
  {
   "cell_type": "code",
   "execution_count": null,
   "id": "27ce549e",
   "metadata": {},
   "outputs": [],
   "source": [
    "members_by_month = (\n",
    "    members.assign(month=members[\"Join_Date\"].dt.to_period(\"M\").dt.to_timestamp())\n",
    "    .groupby(\"month\")\n",
    "    .size()\n",
    ")\n",
    "plt.figure()\n",
    "members_by_month.plot(kind=\"bar\")\n",
    "plt.title(\"New Members per Month\")\n",
    "plt.xlabel(\"Month\")\n",
    "plt.ylabel(\"Count\")\n",
    "plt.tight_layout()\n",
    "plt.show()"
   ]
  },
  {
   "cell_type": "markdown",
   "id": "8147d32b",
   "metadata": {},
   "source": [
    "## Cancellations Over Time"
   ]
  },
  {
   "cell_type": "code",
   "execution_count": null,
   "id": "19a16702",
   "metadata": {},
   "outputs": [],
   "source": [
    "cancels_by_month = (\n",
    "    cancellations.assign(month=cancellations[\"Cancel_Date\"].dt.to_period(\"M\").dt.to_timestamp())\n",
    "    .groupby(\"month\")\n",
    "    .size()\n",
    ")\n",
    "plt.figure()\n",
    "cancels_by_month.plot(kind=\"bar\")\n",
    "plt.title(\"Cancellations per Month\")\n",
    "plt.xlabel(\"Month\")\n",
    "plt.ylabel(\"Count\")\n",
    "plt.tight_layout()\n",
    "plt.show()"
   ]
  },
  {
   "cell_type": "markdown",
   "id": "831b62ac",
   "metadata": {},
   "source": [
    "## Current Churn Snapshot"
   ]
  },
  {
   "cell_type": "code",
   "execution_count": null,
   "id": "2e0f17ba",
   "metadata": {},
   "outputs": [],
   "source": [
    "active_ids = set(members[\"Member_ID\"]) - set(cancellations[\"Member_ID\"])\n",
    "churn_rate = len(set(cancellations[\"Member_ID\"])) / len(set(members[\"Member_ID\"]))\n",
    "print(\n",
    "    f\"Members: {members['Member_ID'].nunique()} | Cancelled: {cancellations['Member_ID'].nunique()} | Churn Rate: {churn_rate:.2%}\"\n",
    ")\n",
    "print(f\"Active Members (approx): {len(active_ids)}\")"
   ]
  },
  {
   "cell_type": "markdown",
   "id": "0a400906",
   "metadata": {},
   "source": [
    "## Attendance Patterns"
   ]
  },
  {
   "cell_type": "code",
   "execution_count": null,
   "id": "48180a81",
   "metadata": {},
   "outputs": [],
   "source": [
    "# Visits per member\n",
    "visits_per_member = attendance[attendance[\"Status\"].eq(\"Checked In\")].groupby(\"Member_ID\").size()\n",
    "plt.figure()\n",
    "visits_per_member.hist(bins=30)\n",
    "plt.title(\"Distribution of Visits per Member\")\n",
    "plt.xlabel(\"Visits\")\n",
    "plt.ylabel(\"Members\")\n",
    "plt.tight_layout()\n",
    "plt.show()\n",
    "\n",
    "# Peak days/times\n",
    "att = attendance.copy()\n",
    "att[\"weekday\"] = att[\"Date\"].dt.day_name()\n",
    "by_weekday = (\n",
    "    att[att[\"Status\"].eq(\"Checked In\")]\n",
    "    .groupby(\"weekday\")\n",
    "    .size()\n",
    "    .reindex([\"Monday\", \"Tuesday\", \"Wednesday\", \"Thursday\", \"Friday\", \"Saturday\", \"Sunday\"])\n",
    ")\n",
    "plt.figure()\n",
    "by_weekday.plot(kind=\"bar\")\n",
    "plt.title(\"Check-ins by Weekday\")\n",
    "plt.xlabel(\"Weekday\")\n",
    "plt.ylabel(\"Check-ins\")\n",
    "plt.tight_layout()\n",
    "plt.show()"
   ]
  },
  {
   "cell_type": "markdown",
   "id": "8662bff8",
   "metadata": {},
   "source": [
    "## Membership Type Mix & Referral Sources"
   ]
  },
  {
   "cell_type": "code",
   "execution_count": null,
   "id": "a915394a",
   "metadata": {},
   "outputs": [],
   "source": [
    "plt.figure()\n",
    "members[\"Membership_Type\"].value_counts().plot(kind=\"bar\")\n",
    "plt.title(\"Membership Type Distribution\")\n",
    "plt.xlabel(\"Type\")\n",
    "plt.ylabel(\"Members\")\n",
    "plt.tight_layout()\n",
    "plt.show()\n",
    "\n",
    "plt.figure()\n",
    "members[\"Referral_Source\"].value_counts().plot(kind=\"bar\")\n",
    "plt.title(\"Referral Source Distribution\")\n",
    "plt.xlabel(\"Source\")\n",
    "plt.ylabel(\"Members\")\n",
    "plt.tight_layout()\n",
    "plt.show()"
   ]
  },
  {
   "cell_type": "markdown",
   "id": "ad7fc65f",
   "metadata": {},
   "source": [
    "## Retail Sales Overview"
   ]
  },
  {
   "cell_type": "code",
   "execution_count": null,
   "id": "aea715fe",
   "metadata": {},
   "outputs": [],
   "source": [
    "sales[\"month\"] = sales[\"Purchase_Date\"].dt.to_period(\"M\").dt.to_timestamp()\n",
    "sales_monthly = sales.groupby(\"month\")[\"Amount_USD\"].sum()\n",
    "plt.figure()\n",
    "sales_monthly.plot(kind=\"bar\")\n",
    "plt.title(\"Retail Revenue by Month\")\n",
    "plt.xlabel(\"Month\")\n",
    "plt.ylabel(\"USD\")\n",
    "plt.tight_layout()\n",
    "plt.show()\n",
    "\n",
    "top_items = sales.groupby(\"Item\")[\"Amount_USD\"].sum().sort_values(ascending=False)\n",
    "display(top_items.to_frame(\"Revenue_USD\"))"
   ]
  },
  {
   "cell_type": "markdown",
   "id": "35e6462a",
   "metadata": {},
   "source": [
    "## Quick Retention Signals (Heuristics)"
   ]
  },
  {
   "cell_type": "code",
   "execution_count": null,
   "id": "7f939777",
   "metadata": {},
   "outputs": [],
   "source": [
    "# Days since last check-in\n",
    "last_seen = (\n",
    "    attendance[attendance[\"Status\"].eq(\"Checked In\")]\n",
    "    .groupby(\"Member_ID\")[\"Date\"]\n",
    "    .max()\n",
    "    .rename(\"Last_Checkin\")\n",
    ")\n",
    "features = members.set_index(\"Member_ID\").join(last_seen).reset_index()\n",
    "snapshot_date = max(attendance[\"Date\"])\n",
    "features[\"Days_Since_Last\"] = (snapshot_date - features[\"Last_Checkin\"]).dt.days\n",
    "\n",
    "# Visit frequency (visits per active month)\n",
    "first_seen = (\n",
    "    attendance[attendance[\"Status\"].eq(\"Checked In\")]\n",
    "    .groupby(\"Member_ID\")[\"Date\"]\n",
    "    .min()\n",
    "    .rename(\"First_Checkin\")\n",
    ")\n",
    "totals = (\n",
    "    attendance[attendance[\"Status\"].eq(\"Checked In\")]\n",
    "    .groupby(\"Member_ID\")\n",
    "    .size()\n",
    "    .rename(\"Total_Checkins\")\n",
    ")\n",
    "features = features.set_index(\"Member_ID\").join(first_seen).join(totals).reset_index()\n",
    "features[\"Months_Active\"] = (\n",
    "    (\n",
    "        features[\"Last_Checkin\"].dt.to_period(\"M\") - features[\"First_Checkin\"].dt.to_period(\"M\")\n",
    "    ).apply(lambda p: p.n)\n",
    "    + 1\n",
    ").clip(lower=1)\n",
    "features[\"Visits_per_Month\"] = (features[\"Total_Checkins\"] / features[\"Months_Active\"]).fillna(0)\n",
    "\n",
    "# Retail spend\n",
    "spend = sales.groupby(\"Member_ID\")[\"Amount_USD\"].sum().rename(\"Retail_Spend_USD\")\n",
    "features = features.set_index(\"Member_ID\").join(spend).reset_index().fillna({\"Retail_Spend_USD\": 0})\n",
    "\n",
    "# Label churned\n",
    "features[\"Churned\"] = features[\"Member_ID\"].isin(set(cancellations[\"Member_ID\"])).astype(int)\n",
    "\n",
    "display(features.head(10))\n",
    "print(\n",
    "    \"Heuristic: Members with high 'Days_Since_Last' and low 'Visits_per_Month' are at higher risk.\"\n",
    ")"
   ]
  }
 ],
 "metadata": {},
 "nbformat": 4,
 "nbformat_minor": 5
}
