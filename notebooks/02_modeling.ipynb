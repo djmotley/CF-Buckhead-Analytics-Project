{
 "cells": [
  {
   "cell_type": "markdown",
   "id": "93957b85",
   "metadata": {},
   "source": [
    "# CrossFit Retention Project — 02 Modeling\n",
    "Build a simple churn model to identify at-risk members using PushPress exports."
   ]
  },
  {
   "cell_type": "code",
   "execution_count": 2,
   "id": "f9140dd0",
   "metadata": {},
   "outputs": [
    {
     "data": {
      "text/plain": [
       "(   Member_ID First_Name  Join_Date Membership_Type Referral_Source\n",
       " 0          1    Member1 2024-11-23      Punch Card          Friend\n",
       " 1          2    Member2 2024-02-27     Foundations          Friend\n",
       " 2          3    Member3 2024-01-13       Unlimited          Google,\n",
       "    Member_ID       Date     Class_Type    Coach      Status\n",
       " 0          1 2025-06-06       Open Gym  Coach D  Checked In\n",
       " 1          1 2025-02-23       CrossFit  Coach C  Checked In\n",
       " 2          1 2025-08-30  Weightlifting  Coach C  Checked In,\n",
       "    Member_ID Purchase_Date                Item  Amount_USD\n",
       " 0          1    2025-09-09      Protein Powder       28.91\n",
       " 1          1    2025-08-14       Shaker Bottle       84.26\n",
       " 2          1    2025-02-01  Membership Upgrade      113.31,\n",
       "    Member_ID Cancel_Date\n",
       " 0        204  2025-05-11\n",
       " 1        267  2025-04-16\n",
       " 2        153  2024-07-23)"
      ]
     },
     "execution_count": 2,
     "metadata": {},
     "output_type": "execute_result"
    }
   ],
   "source": [
    "import os\n",
    "\n",
    "import matplotlib.pyplot as plt\n",
    "import pandas as pd\n",
    "\n",
    "# Define file paths\n",
    "CURRENT_DIR = os.path.abspath(\"..\")\n",
    "RAW_DATA_DIR = os.path.join(CURRENT_DIR, \"data\", \"raw\")\n",
    "MEMBERS_CSV = os.path.join(RAW_DATA_DIR, \"Members.csv\")\n",
    "ATTENDANCE_CSV = os.path.join(RAW_DATA_DIR, \"Attendance.csv\")\n",
    "SALES_CSV = os.path.join(RAW_DATA_DIR, \"Store_Sales.csv\")\n",
    "CANCELLATIONS_CSV = os.path.join(RAW_DATA_DIR, \"Cancellations.csv\")\n",
    "\n",
    "# Load datasets with date parsing\n",
    "members = pd.read_csv(MEMBERS_CSV, parse_dates=[\"Join_Date\"])\n",
    "attendance = pd.read_csv(ATTENDANCE_CSV, parse_dates=[\"Date\"])\n",
    "sales = pd.read_csv(SALES_CSV, parse_dates=[\"Purchase_Date\"])\n",
    "cancellations = pd.read_csv(CANCELLATIONS_CSV, parse_dates=[\"Cancel_Date\"])\n",
    "\n",
    "members.head(3), attendance.head(3), sales.head(3), cancellations.head(3)"
   ]
  },
  {
   "cell_type": "markdown",
   "id": "69b2f258",
   "metadata": {},
   "source": [
    "## Feature Engineering"
   ]
  },
  {
   "cell_type": "code",
   "execution_count": 9,
   "id": "e04a0a1c",
   "metadata": {},
   "outputs": [
    {
     "data": {
      "application/vnd.microsoft.datawrangler.viewer.v0+json": {
       "columns": [
        {
         "name": "index",
         "rawType": "int64",
         "type": "integer"
        },
        {
         "name": "Member_ID",
         "rawType": "int64",
         "type": "integer"
        },
        {
         "name": "First_Name",
         "rawType": "object",
         "type": "string"
        },
        {
         "name": "Total_Checkins",
         "rawType": "int64",
         "type": "integer"
        },
        {
         "name": "Days_Since_Last",
         "rawType": "int64",
         "type": "integer"
        },
        {
         "name": "Months_Active",
         "rawType": "int64",
         "type": "integer"
        },
        {
         "name": "Visits_per_Month",
         "rawType": "float64",
         "type": "float"
        },
        {
         "name": "Retail_Spend_USD",
         "rawType": "float64",
         "type": "float"
        },
        {
         "name": "Membership_Type_Foundations",
         "rawType": "bool",
         "type": "boolean"
        },
        {
         "name": "Membership_Type_Punch Card",
         "rawType": "bool",
         "type": "boolean"
        },
        {
         "name": "Membership_Type_Unlimited",
         "rawType": "bool",
         "type": "boolean"
        },
        {
         "name": "Referral_Source_Friend",
         "rawType": "bool",
         "type": "boolean"
        },
        {
         "name": "Referral_Source_Google",
         "rawType": "bool",
         "type": "boolean"
        },
        {
         "name": "Referral_Source_Instagram",
         "rawType": "bool",
         "type": "boolean"
        },
        {
         "name": "Referral_Source_Walk-in",
         "rawType": "bool",
         "type": "boolean"
        },
        {
         "name": "Churned",
         "rawType": "int64",
         "type": "integer"
        },
        {
         "name": "Visits_Month_STD",
         "rawType": "float64",
         "type": "float"
        }
       ],
       "ref": "2398716a-9b39-453e-bdcf-cc227de846b1",
       "rows": [
        [
         "0",
         "1",
         "Member1",
         "85",
         "0",
         "12",
         "7.083333333333333",
         "311.75",
         "False",
         "True",
         "False",
         "True",
         "False",
         "False",
         "False",
         "0",
         "3.679385653594739"
        ],
        [
         "1",
         "2",
         "Member2",
         "94",
         "2",
         "19",
         "4.947368421052632",
         "343.9",
         "True",
         "False",
         "False",
         "True",
         "False",
         "False",
         "False",
         "0",
         "2.344584403128156"
        ],
        [
         "2",
         "3",
         "Member3",
         "80",
         "2",
         "21",
         "3.8095238095238093",
         "625.86",
         "False",
         "False",
         "True",
         "False",
         "True",
         "False",
         "False",
         "0",
         "2.315578709935113"
        ],
        [
         "3",
         "4",
         "Member4",
         "68",
         "0",
         "10",
         "6.8",
         "539.33",
         "False",
         "True",
         "False",
         "False",
         "False",
         "True",
         "False",
         "0",
         "3.1552425509864617"
        ],
        [
         "4",
         "5",
         "Member5",
         "77",
         "0",
         "18",
         "4.277777777777778",
         "569.1",
         "False",
         "True",
         "False",
         "False",
         "False",
         "False",
         "True",
         "0",
         "2.21772420593607"
        ]
       ],
       "shape": {
        "columns": 16,
        "rows": 5
       }
      },
      "text/html": [
       "<div>\n",
       "<style scoped>\n",
       "    .dataframe tbody tr th:only-of-type {\n",
       "        vertical-align: middle;\n",
       "    }\n",
       "\n",
       "    .dataframe tbody tr th {\n",
       "        vertical-align: top;\n",
       "    }\n",
       "\n",
       "    .dataframe thead th {\n",
       "        text-align: right;\n",
       "    }\n",
       "</style>\n",
       "<table border=\"1\" class=\"dataframe\">\n",
       "  <thead>\n",
       "    <tr style=\"text-align: right;\">\n",
       "      <th></th>\n",
       "      <th>Member_ID</th>\n",
       "      <th>First_Name</th>\n",
       "      <th>Total_Checkins</th>\n",
       "      <th>Days_Since_Last</th>\n",
       "      <th>Months_Active</th>\n",
       "      <th>Visits_per_Month</th>\n",
       "      <th>Retail_Spend_USD</th>\n",
       "      <th>Membership_Type_Foundations</th>\n",
       "      <th>Membership_Type_Punch Card</th>\n",
       "      <th>Membership_Type_Unlimited</th>\n",
       "      <th>Referral_Source_Friend</th>\n",
       "      <th>Referral_Source_Google</th>\n",
       "      <th>Referral_Source_Instagram</th>\n",
       "      <th>Referral_Source_Walk-in</th>\n",
       "      <th>Churned</th>\n",
       "      <th>Visits_Month_STD</th>\n",
       "    </tr>\n",
       "  </thead>\n",
       "  <tbody>\n",
       "    <tr>\n",
       "      <th>0</th>\n",
       "      <td>1</td>\n",
       "      <td>Member1</td>\n",
       "      <td>85</td>\n",
       "      <td>0</td>\n",
       "      <td>12</td>\n",
       "      <td>7.083333</td>\n",
       "      <td>311.75</td>\n",
       "      <td>False</td>\n",
       "      <td>True</td>\n",
       "      <td>False</td>\n",
       "      <td>True</td>\n",
       "      <td>False</td>\n",
       "      <td>False</td>\n",
       "      <td>False</td>\n",
       "      <td>0</td>\n",
       "      <td>3.679386</td>\n",
       "    </tr>\n",
       "    <tr>\n",
       "      <th>1</th>\n",
       "      <td>2</td>\n",
       "      <td>Member2</td>\n",
       "      <td>94</td>\n",
       "      <td>2</td>\n",
       "      <td>19</td>\n",
       "      <td>4.947368</td>\n",
       "      <td>343.90</td>\n",
       "      <td>True</td>\n",
       "      <td>False</td>\n",
       "      <td>False</td>\n",
       "      <td>True</td>\n",
       "      <td>False</td>\n",
       "      <td>False</td>\n",
       "      <td>False</td>\n",
       "      <td>0</td>\n",
       "      <td>2.344584</td>\n",
       "    </tr>\n",
       "    <tr>\n",
       "      <th>2</th>\n",
       "      <td>3</td>\n",
       "      <td>Member3</td>\n",
       "      <td>80</td>\n",
       "      <td>2</td>\n",
       "      <td>21</td>\n",
       "      <td>3.809524</td>\n",
       "      <td>625.86</td>\n",
       "      <td>False</td>\n",
       "      <td>False</td>\n",
       "      <td>True</td>\n",
       "      <td>False</td>\n",
       "      <td>True</td>\n",
       "      <td>False</td>\n",
       "      <td>False</td>\n",
       "      <td>0</td>\n",
       "      <td>2.315579</td>\n",
       "    </tr>\n",
       "    <tr>\n",
       "      <th>3</th>\n",
       "      <td>4</td>\n",
       "      <td>Member4</td>\n",
       "      <td>68</td>\n",
       "      <td>0</td>\n",
       "      <td>10</td>\n",
       "      <td>6.800000</td>\n",
       "      <td>539.33</td>\n",
       "      <td>False</td>\n",
       "      <td>True</td>\n",
       "      <td>False</td>\n",
       "      <td>False</td>\n",
       "      <td>False</td>\n",
       "      <td>True</td>\n",
       "      <td>False</td>\n",
       "      <td>0</td>\n",
       "      <td>3.155243</td>\n",
       "    </tr>\n",
       "    <tr>\n",
       "      <th>4</th>\n",
       "      <td>5</td>\n",
       "      <td>Member5</td>\n",
       "      <td>77</td>\n",
       "      <td>0</td>\n",
       "      <td>18</td>\n",
       "      <td>4.277778</td>\n",
       "      <td>569.10</td>\n",
       "      <td>False</td>\n",
       "      <td>True</td>\n",
       "      <td>False</td>\n",
       "      <td>False</td>\n",
       "      <td>False</td>\n",
       "      <td>False</td>\n",
       "      <td>True</td>\n",
       "      <td>0</td>\n",
       "      <td>2.217724</td>\n",
       "    </tr>\n",
       "  </tbody>\n",
       "</table>\n",
       "</div>"
      ],
      "text/plain": [
       "   Member_ID First_Name  Total_Checkins  Days_Since_Last  Months_Active  \\\n",
       "0          1    Member1              85                0             12   \n",
       "1          2    Member2              94                2             19   \n",
       "2          3    Member3              80                2             21   \n",
       "3          4    Member4              68                0             10   \n",
       "4          5    Member5              77                0             18   \n",
       "\n",
       "   Visits_per_Month  Retail_Spend_USD  Membership_Type_Foundations  \\\n",
       "0          7.083333            311.75                        False   \n",
       "1          4.947368            343.90                         True   \n",
       "2          3.809524            625.86                        False   \n",
       "3          6.800000            539.33                        False   \n",
       "4          4.277778            569.10                        False   \n",
       "\n",
       "   Membership_Type_Punch Card  Membership_Type_Unlimited  \\\n",
       "0                        True                      False   \n",
       "1                       False                      False   \n",
       "2                       False                       True   \n",
       "3                        True                      False   \n",
       "4                        True                      False   \n",
       "\n",
       "   Referral_Source_Friend  Referral_Source_Google  Referral_Source_Instagram  \\\n",
       "0                    True                   False                      False   \n",
       "1                    True                   False                      False   \n",
       "2                   False                    True                      False   \n",
       "3                   False                   False                       True   \n",
       "4                   False                   False                      False   \n",
       "\n",
       "   Referral_Source_Walk-in  Churned  Visits_Month_STD  \n",
       "0                    False        0          3.679386  \n",
       "1                    False        0          2.344584  \n",
       "2                    False        0          2.315579  \n",
       "3                    False        0          3.155243  \n",
       "4                     True        0          2.217724  "
      ]
     },
     "execution_count": 9,
     "metadata": {},
     "output_type": "execute_result"
    }
   ],
   "source": [
    "# Snapshot date = most recent attendance date\n",
    "snapshot_date = attendance[\"Date\"].max()\n",
    "\n",
    "# Attendance-based features\n",
    "att_ok = attendance[attendance[\"Status\"].eq(\"Checked In\")].copy()\n",
    "last_seen = att_ok.groupby(\"Member_ID\")[\"Date\"].max().rename(\"Last_Checkin\")\n",
    "first_seen = att_ok.groupby(\"Member_ID\")[\"Date\"].min().rename(\"First_Checkin\")\n",
    "totals = att_ok.groupby(\"Member_ID\").size().rename(\"Total_Checkins\")\n",
    "by_month = att_ok.assign(month=att_ok[\"Date\"].dt.to_period(\"M\").dt.to_timestamp())\n",
    "visits_monthly = by_month.groupby([\"Member_ID\", \"month\"]).size().rename(\"Visits_Month\")\n",
    "\n",
    "# Variability of attendance\n",
    "var_att = visits_monthly.groupby(\"Member_ID\").std().rename(\"Visits_Month_STD\")\n",
    "\n",
    "# Recency + frequency\n",
    "feats = members.set_index(\"Member_ID\").join(last_seen).join(first_seen).join(totals).reset_index()\n",
    "feats[\"Days_Since_Last\"] = (snapshot_date - feats[\"Last_Checkin\"]).dt.days\n",
    "feats[\"Months_Active\"] = (\n",
    "    (feats[\"Last_Checkin\"].dt.to_period(\"M\") - feats[\"First_Checkin\"].dt.to_period(\"M\")).apply(\n",
    "        lambda p: p.n\n",
    "    )\n",
    "    + 1\n",
    ").clip(lower=1)\n",
    "feats[\"Visits_per_Month\"] = (feats[\"Total_Checkins\"] / feats[\"Months_Active\"]).fillna(0)\n",
    "\n",
    "# Retail spend\n",
    "spend = sales.groupby(\"Member_ID\")[\"Amount_USD\"].sum().rename(\"Retail_Spend_USD\")\n",
    "feats = feats.set_index(\"Member_ID\").join(spend).reset_index().fillna({\"Retail_Spend_USD\": 0})\n",
    "\n",
    "# Membership dummies\n",
    "feats = pd.get_dummies(feats, columns=[\"Membership_Type\", \"Referral_Source\"], drop_first=True)\n",
    "\n",
    "# Label churned (historical)\n",
    "churn_ids = set(cancellations[\"Member_ID\"])\n",
    "feats[\"Churned\"] = feats[\"Member_ID\"].isin(churn_ids).astype(int)\n",
    "\n",
    "# Join variability feature\n",
    "feats = feats.set_index(\"Member_ID\").join(var_att).reset_index()\n",
    "\n",
    "# Fill NaNs for variability and recency features\n",
    "feats[\"Visits_Month_STD\"] = feats[\"Visits_Month_STD\"].fillna(0)\n",
    "feats[\"Days_Since_Last\"] = feats[\"Days_Since_Last\"].fillna(\n",
    "    (snapshot_date - members[\"Join_Date\"].min()).days\n",
    ")\n",
    "feats[\"Visits_per_Month\"] = feats[\"Visits_per_Month\"].fillna(0)\n",
    "\n",
    "# Drop leakage columns\n",
    "drop_cols = [\"First_Checkin\", \"Last_Checkin\", \"Join_Date\"]\n",
    "feats = feats.drop(columns=[c for c in drop_cols if c in feats.columns])\n",
    "feats.head()"
   ]
  },
  {
   "cell_type": "markdown",
   "id": "4d434168",
   "metadata": {},
   "source": [
    "## Train/Test Split & Baselines"
   ]
  },
  {
   "cell_type": "code",
   "execution_count": 10,
   "id": "310be34a",
   "metadata": {},
   "outputs": [
    {
     "name": "stdout",
     "output_type": "stream",
     "text": [
      "Logistic ROC AUC: 0.543\n",
      "RandomForest ROC AUC: 0.442\n",
      "RandomForest ROC AUC: 0.442\n"
     ]
    }
   ],
   "source": [
    "from sklearn.ensemble import RandomForestClassifier\n",
    "from sklearn.linear_model import LogisticRegression\n",
    "from sklearn.metrics import (\n",
    "    PrecisionRecallDisplay,\n",
    "    RocCurveDisplay,\n",
    "    classification_report,\n",
    "    confusion_matrix,\n",
    "    roc_auc_score,\n",
    ")\n",
    "from sklearn.model_selection import train_test_split\n",
    "\n",
    "target = \"Churned\"\n",
    "X = feats.drop(columns=[target, \"Member_ID\", \"First_Name\"])\n",
    "y = feats[target]\n",
    "\n",
    "X_train, X_test, y_train, y_test = train_test_split(\n",
    "    X, y, test_size=0.25, random_state=42, stratify=y\n",
    ")\n",
    "\n",
    "# Logistic Regression\n",
    "lr = LogisticRegression(max_iter=2000)\n",
    "lr.fit(X_train, y_train)\n",
    "lr_probs = lr.predict_proba(X_test)[:, 1]\n",
    "lr_auc = roc_auc_score(y_test, lr_probs)\n",
    "print(f\"Logistic ROC AUC: {lr_auc:.3f}\")\n",
    "\n",
    "# Random Forest\n",
    "rf = RandomForestClassifier(n_estimators=300, random_state=42)\n",
    "rf.fit(X_train, y_train)\n",
    "rf_probs = rf.predict_proba(X_test)[:, 1]\n",
    "rf_auc = roc_auc_score(y_test, rf_probs)\n",
    "print(f\"RandomForest ROC AUC: {rf_auc:.3f}\")"
   ]
  },
  {
   "cell_type": "markdown",
   "id": "1a3ec069",
   "metadata": {},
   "source": [
    "## Curves (one plot per figure)"
   ]
  },
  {
   "cell_type": "code",
   "execution_count": 11,
   "id": "bb117ede",
   "metadata": {},
   "outputs": [
    {
     "data": {
      "image/png": "[encoded data removed]",
      "text/plain": [
       "<Figure size 640x480 with 1 Axes>"
      ]
     },
     "metadata": {},
     "output_type": "display_data"
    },
    {
     "data": {
      "image/png": "[encoded data removed]",
      "text/plain": [
       "<Figure size 640x480 with 1 Axes>"
      ]
     },
     "metadata": {},
     "output_type": "display_data"
    },
    {
     "data": {
      "image/png": "[encoded data removed]",
      "text/plain": [
       "<Figure size 640x480 with 1 Axes>"
      ]
     },
     "metadata": {},
     "output_type": "display_data"
    },
    {
     "data": {
      "image/png": "[encoded data removed]",
      "text/plain": [
       "<Figure size 640x480 with 1 Axes>"
      ]
     },
     "metadata": {},
     "output_type": "display_data"
    }
   ],
   "source": [
    "RocCurveDisplay.from_predictions(y_test, lr_probs)\n",
    "plt.title(\"Logistic Regression ROC Curve\")\n",
    "plt.tight_layout()\n",
    "plt.show()\n",
    "\n",
    "RocCurveDisplay.from_predictions(y_test, rf_probs)\n",
    "plt.title(\"Random Forest ROC Curve\")\n",
    "plt.tight_layout()\n",
    "plt.show()\n",
    "\n",
    "PrecisionRecallDisplay.from_predictions(y_test, lr_probs)\n",
    "plt.title(\"Logistic Regression Precision-Recall\")\n",
    "plt.tight_layout()\n",
    "plt.show()\n",
    "\n",
    "PrecisionRecallDisplay.from_predictions(y_test, rf_probs)\n",
    "plt.title(\"Random Forest Precision-Recall\")\n",
    "plt.tight_layout()\n",
    "plt.show()"
   ]
  },
  {
   "cell_type": "markdown",
   "id": "27bd07d6",
   "metadata": {},
   "source": [
    "## Thresholding & Confusion Matrix"
   ]
  },
  {
   "cell_type": "code",
   "execution_count": 12,
   "id": "5d9d2fbd",
   "metadata": {},
   "outputs": [
    {
     "name": "stdout",
     "output_type": "stream",
     "text": [
      "Random Forest Threshold: 0.4\n",
      "              precision    recall  f1-score   support\n",
      "\n",
      "           0      0.849     0.969     0.905        64\n",
      "           1      0.000     0.000     0.000        11\n",
      "\n",
      "    accuracy                          0.827        75\n",
      "   macro avg      0.425     0.484     0.453        75\n",
      "weighted avg      0.725     0.827     0.772        75\n",
      "\n"
     ]
    },
    {
     "data": {
      "image/png": "[encoded data removed]",
      "text/plain": [
       "<Figure size 640x480 with 2 Axes>"
      ]
     },
     "metadata": {},
     "output_type": "display_data"
    },
    {
     "name": "stdout",
     "output_type": "stream",
     "text": [
      "Logistic Regression Threshold: 0.4\n",
      "              precision    recall  f1-score   support\n",
      "\n",
      "           0      0.851     0.984     0.913        64\n",
      "           1      0.000     0.000     0.000        11\n",
      "\n",
      "    accuracy                          0.840        75\n",
      "   macro avg      0.426     0.492     0.457        75\n",
      "weighted avg      0.726     0.840     0.779        75\n",
      "\n"
     ]
    },
    {
     "data": {
      "image/png": "[encoded data removed]",
      "text/plain": [
       "<Figure size 640x480 with 2 Axes>"
      ]
     },
     "metadata": {},
     "output_type": "display_data"
    }
   ],
   "source": [
    "from sklearn.metrics import ConfusionMatrixDisplay\n",
    "\n",
    "\n",
    "def evaluate_threshold(probs, y_true, threshold=0.5, title=\"Model\"):\n",
    "    preds = (probs >= threshold).astype(int)\n",
    "    print(title, \"Threshold:\", threshold)\n",
    "    print(classification_report(y_true, preds, digits=3))\n",
    "    cm = confusion_matrix(y_true, preds)\n",
    "    disp = ConfusionMatrixDisplay(confusion_matrix=cm)\n",
    "    disp.plot()\n",
    "    plt.title(f\"{title} Confusion Matrix (thr={threshold})\")\n",
    "    plt.tight_layout()\n",
    "    plt.show()\n",
    "\n",
    "\n",
    "evaluate_threshold(rf_probs, y_test, threshold=0.4, title=\"Random Forest\")\n",
    "evaluate_threshold(lr_probs, y_test, threshold=0.4, title=\"Logistic Regression\")"
   ]
  },
  {
   "cell_type": "markdown",
   "id": "6956ba32",
   "metadata": {},
   "source": [
    "## Feature Importance & Top Risk List"
   ]
  },
  {
   "cell_type": "code",
   "execution_count": 13,
   "id": "0e7ec396",
   "metadata": {},
   "outputs": [
    {
     "data": {
      "application/vnd.microsoft.datawrangler.viewer.v0+json": {
       "columns": [
        {
         "name": "index",
         "rawType": "object",
         "type": "string"
        },
        {
         "name": "Importance",
         "rawType": "float64",
         "type": "float"
        }
       ],
       "ref": "3f55a96c-d4af-44a8-8280-e60b0634bd95",
       "rows": [
        [
         "Retail_Spend_USD",
         "0.17451085799677196"
        ],
        [
         "Visits_Month_STD",
         "0.1685656911326326"
        ],
        [
         "Visits_per_Month",
         "0.1572632152302414"
        ],
        [
         "Total_Checkins",
         "0.1328700945110319"
        ],
        [
         "Days_Since_Last",
         "0.12623889428225535"
        ],
        [
         "Months_Active",
         "0.09713225780098907"
        ],
        [
         "Membership_Type_Foundations",
         "0.030519944073474293"
        ],
        [
         "Referral_Source_Instagram",
         "0.022875422926784218"
        ],
        [
         "Membership_Type_Punch Card",
         "0.02243927356811264"
        ],
        [
         "Referral_Source_Friend",
         "0.01859582352620919"
        ],
        [
         "Membership_Type_Unlimited",
         "0.018390861649928984"
        ],
        [
         "Referral_Source_Google",
         "0.01807731056563531"
        ],
        [
         "Referral_Source_Walk-in",
         "0.012520352735933098"
        ]
       ],
       "shape": {
        "columns": 1,
        "rows": 13
       }
      },
      "text/html": [
       "<div>\n",
       "<style scoped>\n",
       "    .dataframe tbody tr th:only-of-type {\n",
       "        vertical-align: middle;\n",
       "    }\n",
       "\n",
       "    .dataframe tbody tr th {\n",
       "        vertical-align: top;\n",
       "    }\n",
       "\n",
       "    .dataframe thead th {\n",
       "        text-align: right;\n",
       "    }\n",
       "</style>\n",
       "<table border=\"1\" class=\"dataframe\">\n",
       "  <thead>\n",
       "    <tr style=\"text-align: right;\">\n",
       "      <th></th>\n",
       "      <th>Importance</th>\n",
       "    </tr>\n",
       "  </thead>\n",
       "  <tbody>\n",
       "    <tr>\n",
       "      <th>Retail_Spend_USD</th>\n",
       "      <td>0.174511</td>\n",
       "    </tr>\n",
       "    <tr>\n",
       "      <th>Visits_Month_STD</th>\n",
       "      <td>0.168566</td>\n",
       "    </tr>\n",
       "    <tr>\n",
       "      <th>Visits_per_Month</th>\n",
       "      <td>0.157263</td>\n",
       "    </tr>\n",
       "    <tr>\n",
       "      <th>Total_Checkins</th>\n",
       "      <td>0.132870</td>\n",
       "    </tr>\n",
       "    <tr>\n",
       "      <th>Days_Since_Last</th>\n",
       "      <td>0.126239</td>\n",
       "    </tr>\n",
       "    <tr>\n",
       "      <th>Months_Active</th>\n",
       "      <td>0.097132</td>\n",
       "    </tr>\n",
       "    <tr>\n",
       "      <th>Membership_Type_Foundations</th>\n",
       "      <td>0.030520</td>\n",
       "    </tr>\n",
       "    <tr>\n",
       "      <th>Referral_Source_Instagram</th>\n",
       "      <td>0.022875</td>\n",
       "    </tr>\n",
       "    <tr>\n",
       "      <th>Membership_Type_Punch Card</th>\n",
       "      <td>0.022439</td>\n",
       "    </tr>\n",
       "    <tr>\n",
       "      <th>Referral_Source_Friend</th>\n",
       "      <td>0.018596</td>\n",
       "    </tr>\n",
       "    <tr>\n",
       "      <th>Membership_Type_Unlimited</th>\n",
       "      <td>0.018391</td>\n",
       "    </tr>\n",
       "    <tr>\n",
       "      <th>Referral_Source_Google</th>\n",
       "      <td>0.018077</td>\n",
       "    </tr>\n",
       "    <tr>\n",
       "      <th>Referral_Source_Walk-in</th>\n",
       "      <td>0.012520</td>\n",
       "    </tr>\n",
       "  </tbody>\n",
       "</table>\n",
       "</div>"
      ],
      "text/plain": [
       "                             Importance\n",
       "Retail_Spend_USD               0.174511\n",
       "Visits_Month_STD               0.168566\n",
       "Visits_per_Month               0.157263\n",
       "Total_Checkins                 0.132870\n",
       "Days_Since_Last                0.126239\n",
       "Months_Active                  0.097132\n",
       "Membership_Type_Foundations    0.030520\n",
       "Referral_Source_Instagram      0.022875\n",
       "Membership_Type_Punch Card     0.022439\n",
       "Referral_Source_Friend         0.018596\n",
       "Membership_Type_Unlimited      0.018391\n",
       "Referral_Source_Google         0.018077\n",
       "Referral_Source_Walk-in        0.012520"
      ]
     },
     "metadata": {},
     "output_type": "display_data"
    },
    {
     "data": {
      "image/png": "[encoded data removed]",
      "text/plain": [
       "<Figure size 640x480 with 1 Axes>"
      ]
     },
     "metadata": {},
     "output_type": "display_data"
    },
    {
     "data": {
      "application/vnd.microsoft.datawrangler.viewer.v0+json": {
       "columns": [
        {
         "name": "index",
         "rawType": "int64",
         "type": "integer"
        },
        {
         "name": "Member_ID",
         "rawType": "int64",
         "type": "integer"
        },
        {
         "name": "Days_Since_Last",
         "rawType": "int64",
         "type": "integer"
        },
        {
         "name": "Visits_per_Month",
         "rawType": "float64",
         "type": "float"
        },
        {
         "name": "Retail_Spend_USD",
         "rawType": "float64",
         "type": "float"
        },
        {
         "name": "Churn_Risk_Score",
         "rawType": "float64",
         "type": "float"
        }
       ],
       "ref": "7b1c7fc6-72c1-4291-acc1-d4b39e83e143",
       "rows": [
        [
         "16",
         "17",
         "13",
         "3.1904761904761907",
         "322.23",
         "0.46"
        ],
        [
         "223",
         "224",
         "9",
         "4.1875",
         "320.47",
         "0.44333333333333336"
        ],
        [
         "252",
         "253",
         "5",
         "4.611111111111111",
         "279.52",
         "0.3933333333333333"
        ],
        [
         "197",
         "198",
         "15",
         "3.888888888888889",
         "637.1",
         "0.38"
        ],
        [
         "267",
         "268",
         "4",
         "4.0476190476190474",
         "308.78000000000003",
         "0.35333333333333333"
        ],
        [
         "56",
         "57",
         "14",
         "4.529411764705882",
         "474.28",
         "0.3333333333333333"
        ],
        [
         "62",
         "63",
         "3",
         "4.368421052631579",
         "261.95",
         "0.30666666666666664"
        ],
        [
         "261",
         "262",
         "4",
         "4.5",
         "685.89",
         "0.30333333333333334"
        ],
        [
         "21",
         "22",
         "7",
         "3.6153846153846154",
         "594.6",
         "0.3"
        ],
        [
         "122",
         "123",
         "1",
         "3.6666666666666665",
         "495.19",
         "0.28"
        ]
       ],
       "shape": {
        "columns": 5,
        "rows": 10
       }
      },
      "text/html": [
       "<div>\n",
       "<style scoped>\n",
       "    .dataframe tbody tr th:only-of-type {\n",
       "        vertical-align: middle;\n",
       "    }\n",
       "\n",
       "    .dataframe tbody tr th {\n",
       "        vertical-align: top;\n",
       "    }\n",
       "\n",
       "    .dataframe thead th {\n",
       "        text-align: right;\n",
       "    }\n",
       "</style>\n",
       "<table border=\"1\" class=\"dataframe\">\n",
       "  <thead>\n",
       "    <tr style=\"text-align: right;\">\n",
       "      <th></th>\n",
       "      <th>Member_ID</th>\n",
       "      <th>Days_Since_Last</th>\n",
       "      <th>Visits_per_Month</th>\n",
       "      <th>Retail_Spend_USD</th>\n",
       "      <th>Churn_Risk_Score</th>\n",
       "    </tr>\n",
       "  </thead>\n",
       "  <tbody>\n",
       "    <tr>\n",
       "      <th>16</th>\n",
       "      <td>17</td>\n",
       "      <td>13</td>\n",
       "      <td>3.190476</td>\n",
       "      <td>322.23</td>\n",
       "      <td>0.460000</td>\n",
       "    </tr>\n",
       "    <tr>\n",
       "      <th>223</th>\n",
       "      <td>224</td>\n",
       "      <td>9</td>\n",
       "      <td>4.187500</td>\n",
       "      <td>320.47</td>\n",
       "      <td>0.443333</td>\n",
       "    </tr>\n",
       "    <tr>\n",
       "      <th>252</th>\n",
       "      <td>253</td>\n",
       "      <td>5</td>\n",
       "      <td>4.611111</td>\n",
       "      <td>279.52</td>\n",
       "      <td>0.393333</td>\n",
       "    </tr>\n",
       "    <tr>\n",
       "      <th>197</th>\n",
       "      <td>198</td>\n",
       "      <td>15</td>\n",
       "      <td>3.888889</td>\n",
       "      <td>637.10</td>\n",
       "      <td>0.380000</td>\n",
       "    </tr>\n",
       "    <tr>\n",
       "      <th>267</th>\n",
       "      <td>268</td>\n",
       "      <td>4</td>\n",
       "      <td>4.047619</td>\n",
       "      <td>308.78</td>\n",
       "      <td>0.353333</td>\n",
       "    </tr>\n",
       "    <tr>\n",
       "      <th>56</th>\n",
       "      <td>57</td>\n",
       "      <td>14</td>\n",
       "      <td>4.529412</td>\n",
       "      <td>474.28</td>\n",
       "      <td>0.333333</td>\n",
       "    </tr>\n",
       "    <tr>\n",
       "      <th>62</th>\n",
       "      <td>63</td>\n",
       "      <td>3</td>\n",
       "      <td>4.368421</td>\n",
       "      <td>261.95</td>\n",
       "      <td>0.306667</td>\n",
       "    </tr>\n",
       "    <tr>\n",
       "      <th>261</th>\n",
       "      <td>262</td>\n",
       "      <td>4</td>\n",
       "      <td>4.500000</td>\n",
       "      <td>685.89</td>\n",
       "      <td>0.303333</td>\n",
       "    </tr>\n",
       "    <tr>\n",
       "      <th>21</th>\n",
       "      <td>22</td>\n",
       "      <td>7</td>\n",
       "      <td>3.615385</td>\n",
       "      <td>594.60</td>\n",
       "      <td>0.300000</td>\n",
       "    </tr>\n",
       "    <tr>\n",
       "      <th>122</th>\n",
       "      <td>123</td>\n",
       "      <td>1</td>\n",
       "      <td>3.666667</td>\n",
       "      <td>495.19</td>\n",
       "      <td>0.280000</td>\n",
       "    </tr>\n",
       "  </tbody>\n",
       "</table>\n",
       "</div>"
      ],
      "text/plain": [
       "     Member_ID  Days_Since_Last  Visits_per_Month  Retail_Spend_USD  \\\n",
       "16          17               13          3.190476            322.23   \n",
       "223        224                9          4.187500            320.47   \n",
       "252        253                5          4.611111            279.52   \n",
       "197        198               15          3.888889            637.10   \n",
       "267        268                4          4.047619            308.78   \n",
       "56          57               14          4.529412            474.28   \n",
       "62          63                3          4.368421            261.95   \n",
       "261        262                4          4.500000            685.89   \n",
       "21          22                7          3.615385            594.60   \n",
       "122        123                1          3.666667            495.19   \n",
       "\n",
       "     Churn_Risk_Score  \n",
       "16           0.460000  \n",
       "223          0.443333  \n",
       "252          0.393333  \n",
       "197          0.380000  \n",
       "267          0.353333  \n",
       "56           0.333333  \n",
       "62           0.306667  \n",
       "261          0.303333  \n",
       "21           0.300000  \n",
       "122          0.280000  "
      ]
     },
     "metadata": {},
     "output_type": "display_data"
    }
   ],
   "source": [
    "# Random Forest feature importance\n",
    "import pandas as pd\n",
    "\n",
    "fi = pd.Series(rf.feature_importances_, index=X.columns).sort_values(ascending=False)\n",
    "display(fi.head(15).to_frame(\"Importance\"))\n",
    "\n",
    "plt.figure()\n",
    "fi.head(15).sort_values().plot(kind=\"barh\")\n",
    "plt.title(\"Top Feature Importances (Random Forest)\")\n",
    "plt.tight_layout()\n",
    "plt.show()\n",
    "\n",
    "# Create a scored list of current members (inference on whole set)\n",
    "rf_all_probs = rf.predict_proba(X)[:, 1]\n",
    "scored = feats.copy()\n",
    "scored[\"Churn_Risk_Score\"] = rf_all_probs\n",
    "# Example outreach list: the top 10 at-risk active members\n",
    "active_ids = set(members[\"Member_ID\"]) - set(cancellations[\"Member_ID\"])\n",
    "outreach = (\n",
    "    scored[scored[\"Member_ID\"].isin(active_ids)]\n",
    "    .sort_values(\"Churn_Risk_Score\", ascending=False)\n",
    "    .head(10)\n",
    ")\n",
    "display(\n",
    "    outreach[\n",
    "        [\"Member_ID\", \"Days_Since_Last\", \"Visits_per_Month\", \"Retail_Spend_USD\", \"Churn_Risk_Score\"]\n",
    "    ]\n",
    ")"
   ]
  },
  {
   "cell_type": "markdown",
   "id": "cb4acfd1",
   "metadata": {},
   "source": [
    "### Notes for the Owner\n",
    "- Members with **high days since last visit** and **low visits per month** trend higher risk.\n",
    "- Consider personal coach outreach at 10–14 days inactive, plus a community nudge (buddy text, event invite)."
   ]
  }
 ],
 "metadata": {
  "kernelspec": {
   "display_name": ".venv",
   "language": "python",
   "name": "python3"
  },
  "language_info": {
   "codemirror_mode": {
    "name": "ipython",
    "version": 3
   },
   "file_extension": ".py",
   "mimetype": "text/x-python",
   "name": "python",
   "nbconvert_exporter": "python",
   "pygments_lexer": "ipython3",
   "version": "3.13.9"
  }
 },
 "nbformat": 4,
 "nbformat_minor": 5
}
